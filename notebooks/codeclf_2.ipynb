{
 "cells": [
  {
   "cell_type": "code",
   "execution_count": 3,
   "metadata": {},
   "outputs": [],
   "source": [
    "import os, sys\n",
    "project_dir = '/home/zhangxin19/zyt/codeclf'\n",
    "sys.path.append(project_dir)"
   ]
  },
  {
   "cell_type": "code",
   "execution_count": 4,
   "metadata": {},
   "outputs": [],
   "source": [
    "from utils.CodeTokenizer import CodeTokenizer, CodeSplitTokenizer\n",
    "from utils.CodeTokenizer import ContextCodeTokenizer, ContextCodeSplitTokenizer\n",
    "from utils.Utils import timethis\n",
    "from preprocessing.DataProcessor import DataProcessor\n",
    "from train.ClfModel import ContextModel, ContextSpiltModel\n",
    "\n",
    "import numpy as np\n",
    "import pandas as pd\n",
    "import logging\n",
    "import tensorflow as tf"
   ]
  },
  {
   "cell_type": "code",
   "execution_count": 5,
   "metadata": {},
   "outputs": [],
   "source": [
    "logging.basicConfig(\n",
    "    level=logging.INFO\n",
    ")"
   ]
  },
  {
   "cell_type": "code",
   "execution_count": null,
   "metadata": {},
   "outputs": [
    {
     "name": "stderr",
     "output_type": "stream",
     "text": [
      "INFO:root:datasets ready!\n"
     ]
    }
   ],
   "source": [
    "#4\n",
    "model_type = 'bilstm_1'\n",
    "context_before = 2\n",
    "context_after = 2\n",
    "context_mode = 'bta'\n",
    "data_num = 1\n",
    "vocab_size = 50000\n",
    "try_time = 4\n",
    "model_name = f'{model_type}_{context_mode}{context_before}{context_after}data{data_num}vocab{vocab_size}_{try_time}'\n",
    "checkpoint_path = os.path.join('../zyt/codeclf/checkpoint/', model_name)\n",
    "print(checkpoint_path)\n",
    "\n",
    "\n",
    "\n",
    "trainer = ContextModel(before=context_before, after=context_after, context_mode=context_mode)\n",
    "trainer.load_vocab('../zyt/codeclf/vocabs/nosplit_keyword_vocab50000.txt')\n",
    "\n",
    "logging.info('datasets ready!')\n",
    "trainer.construct_model(model_type=model_type)\n",
    "\n",
    "logging.info('loading training data...')\n",
    "trainer.load_datasets(train_path='../zyt/codeclf/datasets/df_train_corpus.tar.bz2',\n",
    "            valid_path='../zyt/codeclf/datasets/df_valid_corpus.tar.bz2',\n",
    "            frac=data_num)\n",
    "logging.info('datasets ready!')\n",
    "\n",
    "\n",
    "\n",
    "logging.info('start training...')\n",
    "trainer.train_model(checkpoint_save_path=checkpoint_path)\n",
    "\n",
    "logging.info('saving model...')\n",
    "trainer.save_model(f'../zyt/codeclf/models/{model_name}.hdf5')\n",
    "trainer.plot_history()\n",
    "\n",
    "logging.info('evaluating model...')\n",
    "trainer.evaluate(test_path='../zyt/codeclf/datasets/df_test_corpus.tar.bz2')"
   ]
  },
  {
   "cell_type": "code",
   "execution_count": 1,
   "metadata": {},
   "outputs": [
    {
     "ename": "NameError",
     "evalue": "name 'os' is not defined",
     "output_type": "error",
     "traceback": [
      "\u001b[0;31m---------------------------------------------------------------------------\u001b[0m",
      "\u001b[0;31mNameError\u001b[0m                                 Traceback (most recent call last)",
      "\u001b[0;32m<ipython-input-1-0a5a6925e350>\u001b[0m in \u001b[0;36m<module>\u001b[0;34m\u001b[0m\n\u001b[1;32m      8\u001b[0m \u001b[0mtry_time\u001b[0m \u001b[0;34m=\u001b[0m \u001b[0;36m5\u001b[0m\u001b[0;34m\u001b[0m\u001b[0;34m\u001b[0m\u001b[0m\n\u001b[1;32m      9\u001b[0m \u001b[0mmodel_name\u001b[0m \u001b[0;34m=\u001b[0m \u001b[0;34mf'{model_type}_{context_mode}{context_before}{context_after}data{data_num}vocab{vocab_size}_{try_time}'\u001b[0m\u001b[0;34m\u001b[0m\u001b[0;34m\u001b[0m\u001b[0m\n\u001b[0;32m---> 10\u001b[0;31m \u001b[0mcheckpoint_path\u001b[0m \u001b[0;34m=\u001b[0m \u001b[0mos\u001b[0m\u001b[0;34m.\u001b[0m\u001b[0mpath\u001b[0m\u001b[0;34m.\u001b[0m\u001b[0mjoin\u001b[0m\u001b[0;34m(\u001b[0m\u001b[0;34m'../zyt/codeclf/checkpoint/'\u001b[0m\u001b[0;34m,\u001b[0m \u001b[0mmodel_name\u001b[0m\u001b[0;34m)\u001b[0m\u001b[0;34m\u001b[0m\u001b[0;34m\u001b[0m\u001b[0m\n\u001b[0m\u001b[1;32m     11\u001b[0m \u001b[0mprint\u001b[0m\u001b[0;34m(\u001b[0m\u001b[0mcheckpoint_path\u001b[0m\u001b[0;34m)\u001b[0m\u001b[0;34m\u001b[0m\u001b[0;34m\u001b[0m\u001b[0m\n\u001b[1;32m     12\u001b[0m \u001b[0;34m\u001b[0m\u001b[0m\n",
      "\u001b[0;31mNameError\u001b[0m: name 'os' is not defined"
     ]
    }
   ],
   "source": [
    "#5\n",
    "model_type = 'bilstm_1'\n",
    "context_before = 2\n",
    "context_after = 2\n",
    "context_mode = 'tba'\n",
    "data_num = 1\n",
    "vocab_size = 50000\n",
    "try_time = 5\n",
    "model_name = f'{model_type}_{context_mode}{context_before}{context_after}data{data_num}vocab{vocab_size}_{try_time}'\n",
    "checkpoint_path = os.path.join('../zyt/codeclf/checkpoint/', model_name)\n",
    "print(checkpoint_path)\n",
    "\n",
    "\n",
    "\n",
    "trainer = ContextModel(before=context_before, after=context_after, context_mode=context_mode)\n",
    "trainer.load_vocab('../zyt/codeclf/vocabs/nosplit_keyword_vocab50000.txt')\n",
    "\n",
    "logging.info('datasets ready!')\n",
    "trainer.construct_model(model_type=model_type)\n",
    "\n",
    "logging.info('loading training data...')\n",
    "trainer.load_datasets(train_path='../zyt/codeclf/datasets/df_train_corpus.tar.bz2',\n",
    "            valid_path='../zyt/codeclf/datasets/df_valid_corpus.tar.bz2',\n",
    "            frac=data_num)\n",
    "logging.info('datasets ready!')\n",
    "\n",
    "\n",
    "\n",
    "logging.info('start training...')\n",
    "trainer.train_model(checkpoint_save_path=checkpoint_path)\n",
    "\n",
    "logging.info('saving model...')\n",
    "trainer.save_model(f'../zyt/codeclf/models/{model_name}.hdf5')\n",
    "trainer.plot_history()\n",
    "\n",
    "logging.info('evaluating model...')\n",
    "trainer.evaluate(test_path='../zyt/codeclf/datasets/df_test_corpus.tar.bz2')"
   ]
  },
  {
   "cell_type": "code",
   "execution_count": null,
   "metadata": {},
   "outputs": [],
   "source": [
    "#6\n",
    "model_type = 'bilstm_1'\n",
    "context_before = 2\n",
    "context_after = 2\n",
    "context_mode = 'bat'\n",
    "data_num = 1\n",
    "vocab_size = 50000\n",
    "try_time = 6\n",
    "model_name = f'{model_type}_{context_mode}{context_before}{context_after}data{data_num}vocab{vocab_size}_{try_time}'\n",
    "checkpoint_path = os.path.join('../zyt/codeclf/checkpoint/', model_name)\n",
    "print(checkpoint_path)\n",
    "\n",
    "\n",
    "\n",
    "trainer = ContextModel(before=context_before, after=context_after, context_mode=context_mode)\n",
    "trainer.load_vocab('../zyt/codeclf/vocabs/nosplit_keyword_vocab50000.txt')\n",
    "\n",
    "logging.info('datasets ready!')\n",
    "trainer.construct_model(model_type=model_type)\n",
    "\n",
    "logging.info('loading training data...')\n",
    "trainer.load_datasets(train_path='../zyt/codeclf/datasets/df_train_corpus.tar.bz2',\n",
    "            valid_path='../zyt/codeclf/datasets/df_valid_corpus.tar.bz2',\n",
    "            frac=data_num)\n",
    "logging.info('datasets ready!')\n",
    "\n",
    "\n",
    "\n",
    "logging.info('start training...')\n",
    "trainer.train_model(checkpoint_save_path=checkpoint_path)\n",
    "\n",
    "logging.info('saving model...')\n",
    "trainer.save_model(f'../zyt/codeclf/models/{model_name}.hdf5')\n",
    "trainer.plot_history()\n",
    "\n",
    "logging.info('evaluating model...')\n",
    "trainer.evaluate(test_path='../zyt/codeclf/datasets/df_test_corpus.tar.bz2')"
   ]
  },
  {
   "cell_type": "code",
   "execution_count": null,
   "metadata": {},
   "outputs": [],
   "source": []
  }
 ],
 "metadata": {
  "kernelspec": {
   "display_name": "Python 3",
   "language": "python",
   "name": "python3"
  },
  "language_info": {
   "codemirror_mode": {
    "name": "ipython",
    "version": 3
   },
   "file_extension": ".py",
   "mimetype": "text/x-python",
   "name": "python",
   "nbconvert_exporter": "python",
   "pygments_lexer": "ipython3",
   "version": "3.8.5"
  }
 },
 "nbformat": 4,
 "nbformat_minor": 4
}
