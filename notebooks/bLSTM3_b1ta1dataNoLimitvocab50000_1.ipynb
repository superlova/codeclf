{
 "cells": [
  {
   "cell_type": "markdown",
   "metadata": {
    "id": "sbyy3aG-mkZ1"
   },
   "source": [
    "# 引入依赖文件和库"
   ]
  },
  {
   "cell_type": "markdown",
   "metadata": {
    "id": "73cMrDzEmz5s"
   },
   "source": [
    "## 1. 上传codeclf代码"
   ]
  },
  {
   "cell_type": "code",
   "execution_count": 1,
   "metadata": {
    "colab": {
     "base_uri": "https://localhost:8080/"
    },
    "executionInfo": {
     "elapsed": 967,
     "status": "ok",
     "timestamp": 1608841217404,
     "user": {
      "displayName": "张谷歌",
      "photoUrl": "",
      "userId": "02897993432207501893"
     },
     "user_tz": -480
    },
    "id": "ECXut-HzpzdQ",
    "outputId": "bdca1dff-e6ce-41e9-e217-4c6f1650c5e3"
   },
   "outputs": [
    {
     "name": "stdout",
     "output_type": "stream",
     "text": [
      "datasets\r\n"
     ]
    }
   ],
   "source": [
    "!ls ~/zyt/codeclf"
   ]
  },
  {
   "cell_type": "markdown",
   "metadata": {
    "id": "D8ziH2PesEaP"
   },
   "source": [
    "## 3. 开始训练"
   ]
  },
  {
   "cell_type": "code",
   "execution_count": 2,
   "metadata": {
    "executionInfo": {
     "elapsed": 1246,
     "status": "ok",
     "timestamp": 1608841251113,
     "user": {
      "displayName": "张谷歌",
      "photoUrl": "",
      "userId": "02897993432207501893"
     },
     "user_tz": -480
    },
    "id": "9kU2O37lsHI7"
   },
   "outputs": [],
   "source": [
    "import os, sys\n",
    "project_dir = '/home/zhangxin19/zyt/codeclf'\n",
    "sys.path.append(project_dir)"
   ]
  },
  {
   "cell_type": "code",
   "execution_count": 3,
   "metadata": {
    "executionInfo": {
     "elapsed": 3283,
     "status": "ok",
     "timestamp": 1608841255014,
     "user": {
      "displayName": "张谷歌",
      "photoUrl": "",
      "userId": "02897993432207501893"
     },
     "user_tz": -480
    },
    "id": "RRV17xCTsJyu"
   },
   "outputs": [],
   "source": [
    "from utils.CodeTokenizer import CodeTokenizer, CodeSplitTokenizer\n",
    "from utils.CodeTokenizer import ContextCodeTokenizer, ContextCodeSplitTokenizer\n",
    "from utils.Utils import timethis\n",
    "from preprocessing.DataProcessor import DataProcessor\n",
    "from train.ClfModel import ContextModel\n",
    "\n",
    "import numpy as np\n",
    "import pandas as pd\n",
    "import logging\n",
    "import tensorflow as tf"
   ]
  },
  {
   "cell_type": "code",
   "execution_count": 4,
   "metadata": {
    "executionInfo": {
     "elapsed": 1209,
     "status": "ok",
     "timestamp": 1608841969573,
     "user": {
      "displayName": "张谷歌",
      "photoUrl": "",
      "userId": "02897993432207501893"
     },
     "user_tz": -480
    },
    "id": "Pl26E4I5sNhZ"
   },
   "outputs": [],
   "source": [
    "logging.basicConfig(\n",
    "    level=logging.INFO\n",
    ")"
   ]
  },
  {
   "cell_type": "code",
   "execution_count": 5,
   "metadata": {
    "colab": {
     "base_uri": "https://localhost:8080/",
     "height": 0
    },
    "executionInfo": {
     "elapsed": 968054,
     "status": "error",
     "timestamp": 1608843424235,
     "user": {
      "displayName": "张谷歌",
      "photoUrl": "",
      "userId": "02897993432207501893"
     },
     "user_tz": -480
    },
    "id": "hVmYqxScBH7M",
    "outputId": "8fe3fc27-f07c-400e-9459-b06543cc7227"
   },
   "outputs": [
    {
     "name": "stderr",
     "output_type": "stream",
     "text": [
      "INFO:root:datasets ready!\n"
     ]
    },
    {
     "name": "stdout",
     "output_type": "stream",
     "text": [
      "../zyt/codeclf/checkpoint/bilstm_1_bta11data1vocab50000_1\n"
     ]
    },
    {
     "name": "stderr",
     "output_type": "stream",
     "text": [
      "INFO:root:loading training data...\n"
     ]
    },
    {
     "name": "stdout",
     "output_type": "stream",
     "text": [
      "Model: \"sequential\"\n",
      "_________________________________________________________________\n",
      "Layer (type)                 Output Shape              Param #   \n",
      "=================================================================\n",
      "embedding (Embedding)        (None, 90, 200)           10001200  \n",
      "_________________________________________________________________\n",
      "bidirectional (Bidirectional (None, 100)               100400    \n",
      "_________________________________________________________________\n",
      "dense (Dense)                (None, 1)                 101       \n",
      "=================================================================\n",
      "Total params: 10,101,701\n",
      "Trainable params: 10,101,701\n",
      "Non-trainable params: 0\n",
      "_________________________________________________________________\n"
     ]
    },
    {
     "name": "stderr",
     "output_type": "stream",
     "text": [
      "INFO:root:412178, 23107\n"
     ]
    },
    {
     "name": "stdout",
     "output_type": "stream",
     "text": [
      "limiting training dataset: 412178\n",
      "limiting valid dataset: 23107\n",
      "df_codes:6164023, df_docs:3525106\n",
      "df_codes:361190, df_docs:227917\n",
      "WARNING:tensorflow:AutoGraph could not transform <function ContextModel.load_datasets.<locals>.<lambda> at 0x7fc2442c7f70> and will run it as-is.\n",
      "Cause: could not parse the source code:\n",
      "\n",
      "            .filter(lambda features, label: label == 0)\n",
      "\n",
      "This error may be avoided by creating the lambda in a standalone statement.\n",
      "\n",
      "To silence this warning, decorate the function with @tf.autograph.experimental.do_not_convert\n"
     ]
    },
    {
     "name": "stderr",
     "output_type": "stream",
     "text": [
      "WARNING:tensorflow:AutoGraph could not transform <function ContextModel.load_datasets.<locals>.<lambda> at 0x7fc2442c7f70> and will run it as-is.\n",
      "Cause: could not parse the source code:\n",
      "\n",
      "            .filter(lambda features, label: label == 0)\n",
      "\n",
      "This error may be avoided by creating the lambda in a standalone statement.\n",
      "\n",
      "To silence this warning, decorate the function with @tf.autograph.experimental.do_not_convert\n"
     ]
    },
    {
     "name": "stdout",
     "output_type": "stream",
     "text": [
      "WARNING: AutoGraph could not transform <function ContextModel.load_datasets.<locals>.<lambda> at 0x7fc2442c7f70> and will run it as-is.\n",
      "Cause: could not parse the source code:\n",
      "\n",
      "            .filter(lambda features, label: label == 0)\n",
      "\n",
      "This error may be avoided by creating the lambda in a standalone statement.\n",
      "\n",
      "To silence this warning, decorate the function with @tf.autograph.experimental.do_not_convert\n",
      "WARNING:tensorflow:AutoGraph could not transform <function ContextModel.load_datasets.<locals>.<lambda> at 0x7fbd4e7daee0> and will run it as-is.\n",
      "Cause: could not parse the source code:\n",
      "\n",
      "            .filter(lambda features, label: label == 1)\n",
      "\n",
      "This error may be avoided by creating the lambda in a standalone statement.\n",
      "\n",
      "To silence this warning, decorate the function with @tf.autograph.experimental.do_not_convert\n"
     ]
    },
    {
     "name": "stderr",
     "output_type": "stream",
     "text": [
      "WARNING:tensorflow:AutoGraph could not transform <function ContextModel.load_datasets.<locals>.<lambda> at 0x7fbd4e7daee0> and will run it as-is.\n",
      "Cause: could not parse the source code:\n",
      "\n",
      "            .filter(lambda features, label: label == 1)\n",
      "\n",
      "This error may be avoided by creating the lambda in a standalone statement.\n",
      "\n",
      "To silence this warning, decorate the function with @tf.autograph.experimental.do_not_convert\n"
     ]
    },
    {
     "name": "stdout",
     "output_type": "stream",
     "text": [
      "WARNING: AutoGraph could not transform <function ContextModel.load_datasets.<locals>.<lambda> at 0x7fbd4e7daee0> and will run it as-is.\n",
      "Cause: could not parse the source code:\n",
      "\n",
      "            .filter(lambda features, label: label == 1)\n",
      "\n",
      "This error may be avoided by creating the lambda in a standalone statement.\n",
      "\n",
      "To silence this warning, decorate the function with @tf.autograph.experimental.do_not_convert\n"
     ]
    },
    {
     "name": "stderr",
     "output_type": "stream",
     "text": [
      "INFO:root:datasets ready!\n",
      "INFO:root:start training...\n",
      "INFO:root:metrics start\n"
     ]
    },
    {
     "name": "stdout",
     "output_type": "stream",
     "text": [
      "load_datasets executing time: 126.409863863s\n"
     ]
    },
    {
     "name": "stderr",
     "output_type": "stream",
     "text": [
      "INFO:root:metric end\n"
     ]
    },
    {
     "name": "stdout",
     "output_type": "stream",
     "text": [
      "Epoch 1/40\n"
     ]
    },
    {
     "ename": "ResourceExhaustedError",
     "evalue": "2 root error(s) found.\n  (0) Resource exhausted:  OOM when allocating tensor with shape[1024,90,200] and type float on /job:localhost/replica:0/task:0/device:GPU:0 by allocator GPU_0_bfc\n\t [[node sequential/bidirectional/forward_lstm/ones_like (defined at /home/zhangxin19/zyt/codeclf/train/ClfModel.py:387) ]]\nHint: If you want to see a list of allocated tensors when OOM happens, add report_tensor_allocations_upon_oom to RunOptions for current allocation info.\n\n\t [[gradient_tape/sequential/embedding/embedding_lookup/Reshape/_38]]\nHint: If you want to see a list of allocated tensors when OOM happens, add report_tensor_allocations_upon_oom to RunOptions for current allocation info.\n\n  (1) Resource exhausted:  OOM when allocating tensor with shape[1024,90,200] and type float on /job:localhost/replica:0/task:0/device:GPU:0 by allocator GPU_0_bfc\n\t [[node sequential/bidirectional/forward_lstm/ones_like (defined at /home/zhangxin19/zyt/codeclf/train/ClfModel.py:387) ]]\nHint: If you want to see a list of allocated tensors when OOM happens, add report_tensor_allocations_upon_oom to RunOptions for current allocation info.\n\n0 successful operations.\n0 derived errors ignored. [Op:__inference_train_function_100348]\n\nFunction call stack:\ntrain_function -> train_function\n",
     "output_type": "error",
     "traceback": [
      "\u001b[0;31m---------------------------------------------------------------------------\u001b[0m",
      "\u001b[0;31mResourceExhaustedError\u001b[0m                    Traceback (most recent call last)",
      "\u001b[0;32m<ipython-input-5-763bfa95141b>\u001b[0m in \u001b[0;36m<module>\u001b[0;34m\u001b[0m\n\u001b[1;32m     27\u001b[0m \u001b[0;34m\u001b[0m\u001b[0m\n\u001b[1;32m     28\u001b[0m \u001b[0mlogging\u001b[0m\u001b[0;34m.\u001b[0m\u001b[0minfo\u001b[0m\u001b[0;34m(\u001b[0m\u001b[0;34m'start training...'\u001b[0m\u001b[0;34m)\u001b[0m\u001b[0;34m\u001b[0m\u001b[0;34m\u001b[0m\u001b[0m\n\u001b[0;32m---> 29\u001b[0;31m \u001b[0mtrainer\u001b[0m\u001b[0;34m.\u001b[0m\u001b[0mtrain_model\u001b[0m\u001b[0;34m(\u001b[0m\u001b[0mcheckpoint_save_path\u001b[0m\u001b[0;34m=\u001b[0m\u001b[0mcheckpoint_path\u001b[0m\u001b[0;34m)\u001b[0m\u001b[0;34m\u001b[0m\u001b[0;34m\u001b[0m\u001b[0m\n\u001b[0m\u001b[1;32m     30\u001b[0m \u001b[0;34m\u001b[0m\u001b[0m\n\u001b[1;32m     31\u001b[0m \u001b[0mlogging\u001b[0m\u001b[0;34m.\u001b[0m\u001b[0minfo\u001b[0m\u001b[0;34m(\u001b[0m\u001b[0;34m'saving model...'\u001b[0m\u001b[0;34m)\u001b[0m\u001b[0;34m\u001b[0m\u001b[0;34m\u001b[0m\u001b[0m\n",
      "\u001b[0;32m~/zyt/codeclf/utils/Utils.py\u001b[0m in \u001b[0;36mwrapper\u001b[0;34m(*args, **kwargs)\u001b[0m\n\u001b[1;32m     46\u001b[0m     \u001b[0;32mdef\u001b[0m \u001b[0mwrapper\u001b[0m\u001b[0;34m(\u001b[0m\u001b[0;34m*\u001b[0m\u001b[0margs\u001b[0m\u001b[0;34m,\u001b[0m \u001b[0;34m**\u001b[0m\u001b[0mkwargs\u001b[0m\u001b[0;34m)\u001b[0m\u001b[0;34m:\u001b[0m\u001b[0;34m\u001b[0m\u001b[0;34m\u001b[0m\u001b[0m\n\u001b[1;32m     47\u001b[0m         \u001b[0mstart\u001b[0m \u001b[0;34m=\u001b[0m \u001b[0mprocess_time\u001b[0m\u001b[0;34m(\u001b[0m\u001b[0;34m)\u001b[0m\u001b[0;34m\u001b[0m\u001b[0;34m\u001b[0m\u001b[0m\n\u001b[0;32m---> 48\u001b[0;31m         \u001b[0mr\u001b[0m \u001b[0;34m=\u001b[0m \u001b[0mfunc\u001b[0m\u001b[0;34m(\u001b[0m\u001b[0;34m*\u001b[0m\u001b[0margs\u001b[0m\u001b[0;34m,\u001b[0m \u001b[0;34m**\u001b[0m\u001b[0mkwargs\u001b[0m\u001b[0;34m)\u001b[0m\u001b[0;34m\u001b[0m\u001b[0;34m\u001b[0m\u001b[0m\n\u001b[0m\u001b[1;32m     49\u001b[0m         \u001b[0mend\u001b[0m \u001b[0;34m=\u001b[0m \u001b[0mprocess_time\u001b[0m\u001b[0;34m(\u001b[0m\u001b[0;34m)\u001b[0m\u001b[0;34m\u001b[0m\u001b[0;34m\u001b[0m\u001b[0m\n\u001b[1;32m     50\u001b[0m         \u001b[0mprint\u001b[0m\u001b[0;34m(\u001b[0m\u001b[0;34m'{} executing time: {}s'\u001b[0m\u001b[0;34m.\u001b[0m\u001b[0mformat\u001b[0m\u001b[0;34m(\u001b[0m\u001b[0mfunc\u001b[0m\u001b[0;34m.\u001b[0m\u001b[0m__name__\u001b[0m\u001b[0;34m,\u001b[0m \u001b[0mend\u001b[0m \u001b[0;34m-\u001b[0m \u001b[0mstart\u001b[0m\u001b[0;34m)\u001b[0m\u001b[0;34m)\u001b[0m\u001b[0;34m\u001b[0m\u001b[0;34m\u001b[0m\u001b[0m\n",
      "\u001b[0;32m~/zyt/codeclf/train/ClfModel.py\u001b[0m in \u001b[0;36mtrain_model\u001b[0;34m(self, checkpoint_save_path, patience)\u001b[0m\n\u001b[1;32m    385\u001b[0m         \u001b[0mlogging\u001b[0m\u001b[0;34m.\u001b[0m\u001b[0minfo\u001b[0m\u001b[0;34m(\u001b[0m\u001b[0;34m\"metric end\"\u001b[0m\u001b[0;34m)\u001b[0m\u001b[0;34m\u001b[0m\u001b[0;34m\u001b[0m\u001b[0m\n\u001b[1;32m    386\u001b[0m \u001b[0;34m\u001b[0m\u001b[0m\n\u001b[0;32m--> 387\u001b[0;31m         self.history = self.model.fit(self.train_ds, epochs=self.EPOCHS, validation_data=self.val_ds,\n\u001b[0m\u001b[1;32m    388\u001b[0m                                       callbacks=[metrics,\n\u001b[1;32m    389\u001b[0m                                                  \u001b[0mcheck_point\u001b[0m\u001b[0;34m,\u001b[0m\u001b[0;34m\u001b[0m\u001b[0;34m\u001b[0m\u001b[0m\n",
      "\u001b[0;32m~/anaconda3/envs/zyt/lib/python3.8/site-packages/tensorflow/python/keras/engine/training.py\u001b[0m in \u001b[0;36m_method_wrapper\u001b[0;34m(self, *args, **kwargs)\u001b[0m\n\u001b[1;32m    106\u001b[0m   \u001b[0;32mdef\u001b[0m \u001b[0m_method_wrapper\u001b[0m\u001b[0;34m(\u001b[0m\u001b[0mself\u001b[0m\u001b[0;34m,\u001b[0m \u001b[0;34m*\u001b[0m\u001b[0margs\u001b[0m\u001b[0;34m,\u001b[0m \u001b[0;34m**\u001b[0m\u001b[0mkwargs\u001b[0m\u001b[0;34m)\u001b[0m\u001b[0;34m:\u001b[0m\u001b[0;34m\u001b[0m\u001b[0;34m\u001b[0m\u001b[0m\n\u001b[1;32m    107\u001b[0m     \u001b[0;32mif\u001b[0m \u001b[0;32mnot\u001b[0m \u001b[0mself\u001b[0m\u001b[0;34m.\u001b[0m\u001b[0m_in_multi_worker_mode\u001b[0m\u001b[0;34m(\u001b[0m\u001b[0;34m)\u001b[0m\u001b[0;34m:\u001b[0m  \u001b[0;31m# pylint: disable=protected-access\u001b[0m\u001b[0;34m\u001b[0m\u001b[0;34m\u001b[0m\u001b[0m\n\u001b[0;32m--> 108\u001b[0;31m       \u001b[0;32mreturn\u001b[0m \u001b[0mmethod\u001b[0m\u001b[0;34m(\u001b[0m\u001b[0mself\u001b[0m\u001b[0;34m,\u001b[0m \u001b[0;34m*\u001b[0m\u001b[0margs\u001b[0m\u001b[0;34m,\u001b[0m \u001b[0;34m**\u001b[0m\u001b[0mkwargs\u001b[0m\u001b[0;34m)\u001b[0m\u001b[0;34m\u001b[0m\u001b[0;34m\u001b[0m\u001b[0m\n\u001b[0m\u001b[1;32m    109\u001b[0m \u001b[0;34m\u001b[0m\u001b[0m\n\u001b[1;32m    110\u001b[0m     \u001b[0;31m# Running inside `run_distribute_coordinator` already.\u001b[0m\u001b[0;34m\u001b[0m\u001b[0;34m\u001b[0m\u001b[0;34m\u001b[0m\u001b[0m\n",
      "\u001b[0;32m~/anaconda3/envs/zyt/lib/python3.8/site-packages/tensorflow/python/keras/engine/training.py\u001b[0m in \u001b[0;36mfit\u001b[0;34m(self, x, y, batch_size, epochs, verbose, callbacks, validation_split, validation_data, shuffle, class_weight, sample_weight, initial_epoch, steps_per_epoch, validation_steps, validation_batch_size, validation_freq, max_queue_size, workers, use_multiprocessing)\u001b[0m\n\u001b[1;32m   1096\u001b[0m                 batch_size=batch_size):\n\u001b[1;32m   1097\u001b[0m               \u001b[0mcallbacks\u001b[0m\u001b[0;34m.\u001b[0m\u001b[0mon_train_batch_begin\u001b[0m\u001b[0;34m(\u001b[0m\u001b[0mstep\u001b[0m\u001b[0;34m)\u001b[0m\u001b[0;34m\u001b[0m\u001b[0;34m\u001b[0m\u001b[0m\n\u001b[0;32m-> 1098\u001b[0;31m               \u001b[0mtmp_logs\u001b[0m \u001b[0;34m=\u001b[0m \u001b[0mtrain_function\u001b[0m\u001b[0;34m(\u001b[0m\u001b[0miterator\u001b[0m\u001b[0;34m)\u001b[0m\u001b[0;34m\u001b[0m\u001b[0;34m\u001b[0m\u001b[0m\n\u001b[0m\u001b[1;32m   1099\u001b[0m               \u001b[0;32mif\u001b[0m \u001b[0mdata_handler\u001b[0m\u001b[0;34m.\u001b[0m\u001b[0mshould_sync\u001b[0m\u001b[0;34m:\u001b[0m\u001b[0;34m\u001b[0m\u001b[0;34m\u001b[0m\u001b[0m\n\u001b[1;32m   1100\u001b[0m                 \u001b[0mcontext\u001b[0m\u001b[0;34m.\u001b[0m\u001b[0masync_wait\u001b[0m\u001b[0;34m(\u001b[0m\u001b[0;34m)\u001b[0m\u001b[0;34m\u001b[0m\u001b[0;34m\u001b[0m\u001b[0m\n",
      "\u001b[0;32m~/anaconda3/envs/zyt/lib/python3.8/site-packages/tensorflow/python/eager/def_function.py\u001b[0m in \u001b[0;36m__call__\u001b[0;34m(self, *args, **kwds)\u001b[0m\n\u001b[1;32m    778\u001b[0m       \u001b[0;32melse\u001b[0m\u001b[0;34m:\u001b[0m\u001b[0;34m\u001b[0m\u001b[0;34m\u001b[0m\u001b[0m\n\u001b[1;32m    779\u001b[0m         \u001b[0mcompiler\u001b[0m \u001b[0;34m=\u001b[0m \u001b[0;34m\"nonXla\"\u001b[0m\u001b[0;34m\u001b[0m\u001b[0;34m\u001b[0m\u001b[0m\n\u001b[0;32m--> 780\u001b[0;31m         \u001b[0mresult\u001b[0m \u001b[0;34m=\u001b[0m \u001b[0mself\u001b[0m\u001b[0;34m.\u001b[0m\u001b[0m_call\u001b[0m\u001b[0;34m(\u001b[0m\u001b[0;34m*\u001b[0m\u001b[0margs\u001b[0m\u001b[0;34m,\u001b[0m \u001b[0;34m**\u001b[0m\u001b[0mkwds\u001b[0m\u001b[0;34m)\u001b[0m\u001b[0;34m\u001b[0m\u001b[0;34m\u001b[0m\u001b[0m\n\u001b[0m\u001b[1;32m    781\u001b[0m \u001b[0;34m\u001b[0m\u001b[0m\n\u001b[1;32m    782\u001b[0m       \u001b[0mnew_tracing_count\u001b[0m \u001b[0;34m=\u001b[0m \u001b[0mself\u001b[0m\u001b[0;34m.\u001b[0m\u001b[0m_get_tracing_count\u001b[0m\u001b[0;34m(\u001b[0m\u001b[0;34m)\u001b[0m\u001b[0;34m\u001b[0m\u001b[0;34m\u001b[0m\u001b[0m\n",
      "\u001b[0;32m~/anaconda3/envs/zyt/lib/python3.8/site-packages/tensorflow/python/eager/def_function.py\u001b[0m in \u001b[0;36m_call\u001b[0;34m(self, *args, **kwds)\u001b[0m\n\u001b[1;32m    838\u001b[0m         \u001b[0;31m# Lifting succeeded, so variables are initialized and we can run the\u001b[0m\u001b[0;34m\u001b[0m\u001b[0;34m\u001b[0m\u001b[0;34m\u001b[0m\u001b[0m\n\u001b[1;32m    839\u001b[0m         \u001b[0;31m# stateless function.\u001b[0m\u001b[0;34m\u001b[0m\u001b[0;34m\u001b[0m\u001b[0;34m\u001b[0m\u001b[0m\n\u001b[0;32m--> 840\u001b[0;31m         \u001b[0;32mreturn\u001b[0m \u001b[0mself\u001b[0m\u001b[0;34m.\u001b[0m\u001b[0m_stateless_fn\u001b[0m\u001b[0;34m(\u001b[0m\u001b[0;34m*\u001b[0m\u001b[0margs\u001b[0m\u001b[0;34m,\u001b[0m \u001b[0;34m**\u001b[0m\u001b[0mkwds\u001b[0m\u001b[0;34m)\u001b[0m\u001b[0;34m\u001b[0m\u001b[0;34m\u001b[0m\u001b[0m\n\u001b[0m\u001b[1;32m    841\u001b[0m     \u001b[0;32melse\u001b[0m\u001b[0;34m:\u001b[0m\u001b[0;34m\u001b[0m\u001b[0;34m\u001b[0m\u001b[0m\n\u001b[1;32m    842\u001b[0m       \u001b[0mcanon_args\u001b[0m\u001b[0;34m,\u001b[0m \u001b[0mcanon_kwds\u001b[0m \u001b[0;34m=\u001b[0m\u001b[0;31m \u001b[0m\u001b[0;31m\\\u001b[0m\u001b[0;34m\u001b[0m\u001b[0;34m\u001b[0m\u001b[0m\n",
      "\u001b[0;32m~/anaconda3/envs/zyt/lib/python3.8/site-packages/tensorflow/python/eager/function.py\u001b[0m in \u001b[0;36m__call__\u001b[0;34m(self, *args, **kwargs)\u001b[0m\n\u001b[1;32m   2827\u001b[0m     \u001b[0;32mwith\u001b[0m \u001b[0mself\u001b[0m\u001b[0;34m.\u001b[0m\u001b[0m_lock\u001b[0m\u001b[0;34m:\u001b[0m\u001b[0;34m\u001b[0m\u001b[0;34m\u001b[0m\u001b[0m\n\u001b[1;32m   2828\u001b[0m       \u001b[0mgraph_function\u001b[0m\u001b[0;34m,\u001b[0m \u001b[0margs\u001b[0m\u001b[0;34m,\u001b[0m \u001b[0mkwargs\u001b[0m \u001b[0;34m=\u001b[0m \u001b[0mself\u001b[0m\u001b[0;34m.\u001b[0m\u001b[0m_maybe_define_function\u001b[0m\u001b[0;34m(\u001b[0m\u001b[0margs\u001b[0m\u001b[0;34m,\u001b[0m \u001b[0mkwargs\u001b[0m\u001b[0;34m)\u001b[0m\u001b[0;34m\u001b[0m\u001b[0;34m\u001b[0m\u001b[0m\n\u001b[0;32m-> 2829\u001b[0;31m     \u001b[0;32mreturn\u001b[0m \u001b[0mgraph_function\u001b[0m\u001b[0;34m.\u001b[0m\u001b[0m_filtered_call\u001b[0m\u001b[0;34m(\u001b[0m\u001b[0margs\u001b[0m\u001b[0;34m,\u001b[0m \u001b[0mkwargs\u001b[0m\u001b[0;34m)\u001b[0m  \u001b[0;31m# pylint: disable=protected-access\u001b[0m\u001b[0;34m\u001b[0m\u001b[0;34m\u001b[0m\u001b[0m\n\u001b[0m\u001b[1;32m   2830\u001b[0m \u001b[0;34m\u001b[0m\u001b[0m\n\u001b[1;32m   2831\u001b[0m   \u001b[0;34m@\u001b[0m\u001b[0mproperty\u001b[0m\u001b[0;34m\u001b[0m\u001b[0;34m\u001b[0m\u001b[0m\n",
      "\u001b[0;32m~/anaconda3/envs/zyt/lib/python3.8/site-packages/tensorflow/python/eager/function.py\u001b[0m in \u001b[0;36m_filtered_call\u001b[0;34m(self, args, kwargs, cancellation_manager)\u001b[0m\n\u001b[1;32m   1841\u001b[0m       \u001b[0;31m`\u001b[0m\u001b[0margs\u001b[0m\u001b[0;31m`\u001b[0m \u001b[0;32mand\u001b[0m\u001b[0;31m \u001b[0m\u001b[0;31m`\u001b[0m\u001b[0mkwargs\u001b[0m\u001b[0;31m`\u001b[0m\u001b[0;34m.\u001b[0m\u001b[0;34m\u001b[0m\u001b[0;34m\u001b[0m\u001b[0m\n\u001b[1;32m   1842\u001b[0m     \"\"\"\n\u001b[0;32m-> 1843\u001b[0;31m     return self._call_flat(\n\u001b[0m\u001b[1;32m   1844\u001b[0m         [t for t in nest.flatten((args, kwargs), expand_composites=True)\n\u001b[1;32m   1845\u001b[0m          if isinstance(t, (ops.Tensor,\n",
      "\u001b[0;32m~/anaconda3/envs/zyt/lib/python3.8/site-packages/tensorflow/python/eager/function.py\u001b[0m in \u001b[0;36m_call_flat\u001b[0;34m(self, args, captured_inputs, cancellation_manager)\u001b[0m\n\u001b[1;32m   1921\u001b[0m         and executing_eagerly):\n\u001b[1;32m   1922\u001b[0m       \u001b[0;31m# No tape is watching; skip to running the function.\u001b[0m\u001b[0;34m\u001b[0m\u001b[0;34m\u001b[0m\u001b[0;34m\u001b[0m\u001b[0m\n\u001b[0;32m-> 1923\u001b[0;31m       return self._build_call_outputs(self._inference_function.call(\n\u001b[0m\u001b[1;32m   1924\u001b[0m           ctx, args, cancellation_manager=cancellation_manager))\n\u001b[1;32m   1925\u001b[0m     forward_backward = self._select_forward_and_backward_functions(\n",
      "\u001b[0;32m~/anaconda3/envs/zyt/lib/python3.8/site-packages/tensorflow/python/eager/function.py\u001b[0m in \u001b[0;36mcall\u001b[0;34m(self, ctx, args, cancellation_manager)\u001b[0m\n\u001b[1;32m    543\u001b[0m       \u001b[0;32mwith\u001b[0m \u001b[0m_InterpolateFunctionError\u001b[0m\u001b[0;34m(\u001b[0m\u001b[0mself\u001b[0m\u001b[0;34m)\u001b[0m\u001b[0;34m:\u001b[0m\u001b[0;34m\u001b[0m\u001b[0;34m\u001b[0m\u001b[0m\n\u001b[1;32m    544\u001b[0m         \u001b[0;32mif\u001b[0m \u001b[0mcancellation_manager\u001b[0m \u001b[0;32mis\u001b[0m \u001b[0;32mNone\u001b[0m\u001b[0;34m:\u001b[0m\u001b[0;34m\u001b[0m\u001b[0;34m\u001b[0m\u001b[0m\n\u001b[0;32m--> 545\u001b[0;31m           outputs = execute.execute(\n\u001b[0m\u001b[1;32m    546\u001b[0m               \u001b[0mstr\u001b[0m\u001b[0;34m(\u001b[0m\u001b[0mself\u001b[0m\u001b[0;34m.\u001b[0m\u001b[0msignature\u001b[0m\u001b[0;34m.\u001b[0m\u001b[0mname\u001b[0m\u001b[0;34m)\u001b[0m\u001b[0;34m,\u001b[0m\u001b[0;34m\u001b[0m\u001b[0;34m\u001b[0m\u001b[0m\n\u001b[1;32m    547\u001b[0m               \u001b[0mnum_outputs\u001b[0m\u001b[0;34m=\u001b[0m\u001b[0mself\u001b[0m\u001b[0;34m.\u001b[0m\u001b[0m_num_outputs\u001b[0m\u001b[0;34m,\u001b[0m\u001b[0;34m\u001b[0m\u001b[0;34m\u001b[0m\u001b[0m\n",
      "\u001b[0;32m~/anaconda3/envs/zyt/lib/python3.8/site-packages/tensorflow/python/eager/execute.py\u001b[0m in \u001b[0;36mquick_execute\u001b[0;34m(op_name, num_outputs, inputs, attrs, ctx, name)\u001b[0m\n\u001b[1;32m     57\u001b[0m   \u001b[0;32mtry\u001b[0m\u001b[0;34m:\u001b[0m\u001b[0;34m\u001b[0m\u001b[0;34m\u001b[0m\u001b[0m\n\u001b[1;32m     58\u001b[0m     \u001b[0mctx\u001b[0m\u001b[0;34m.\u001b[0m\u001b[0mensure_initialized\u001b[0m\u001b[0;34m(\u001b[0m\u001b[0;34m)\u001b[0m\u001b[0;34m\u001b[0m\u001b[0;34m\u001b[0m\u001b[0m\n\u001b[0;32m---> 59\u001b[0;31m     tensors = pywrap_tfe.TFE_Py_Execute(ctx._handle, device_name, op_name,\n\u001b[0m\u001b[1;32m     60\u001b[0m                                         inputs, attrs, num_outputs)\n\u001b[1;32m     61\u001b[0m   \u001b[0;32mexcept\u001b[0m \u001b[0mcore\u001b[0m\u001b[0;34m.\u001b[0m\u001b[0m_NotOkStatusException\u001b[0m \u001b[0;32mas\u001b[0m \u001b[0me\u001b[0m\u001b[0;34m:\u001b[0m\u001b[0;34m\u001b[0m\u001b[0;34m\u001b[0m\u001b[0m\n",
      "\u001b[0;31mResourceExhaustedError\u001b[0m: 2 root error(s) found.\n  (0) Resource exhausted:  OOM when allocating tensor with shape[1024,90,200] and type float on /job:localhost/replica:0/task:0/device:GPU:0 by allocator GPU_0_bfc\n\t [[node sequential/bidirectional/forward_lstm/ones_like (defined at /home/zhangxin19/zyt/codeclf/train/ClfModel.py:387) ]]\nHint: If you want to see a list of allocated tensors when OOM happens, add report_tensor_allocations_upon_oom to RunOptions for current allocation info.\n\n\t [[gradient_tape/sequential/embedding/embedding_lookup/Reshape/_38]]\nHint: If you want to see a list of allocated tensors when OOM happens, add report_tensor_allocations_upon_oom to RunOptions for current allocation info.\n\n  (1) Resource exhausted:  OOM when allocating tensor with shape[1024,90,200] and type float on /job:localhost/replica:0/task:0/device:GPU:0 by allocator GPU_0_bfc\n\t [[node sequential/bidirectional/forward_lstm/ones_like (defined at /home/zhangxin19/zyt/codeclf/train/ClfModel.py:387) ]]\nHint: If you want to see a list of allocated tensors when OOM happens, add report_tensor_allocations_upon_oom to RunOptions for current allocation info.\n\n0 successful operations.\n0 derived errors ignored. [Op:__inference_train_function_100348]\n\nFunction call stack:\ntrain_function -> train_function\n"
     ]
    }
   ],
   "source": [
    "#1\n",
    "model_type = 'bilstm_1'\n",
    "context_before = 1\n",
    "context_after = 1\n",
    "context_mode = 'bta'\n",
    "data_num = 1\n",
    "vocab_size = 50000\n",
    "try_time = 1\n",
    "model_name = f'{model_type}_{context_mode}{context_before}{context_after}data{data_num}vocab{vocab_size}_{try_time}'\n",
    "checkpoint_path = os.path.join('../zyt/codeclf/checkpoint/', model_name)\n",
    "print(checkpoint_path)\n",
    "\n",
    "\n",
    "\n",
    "trainer = ContextModel(before=context_before, after=context_after, context_mode=context_mode)\n",
    "trainer.load_vocab('../zyt/codeclf/vocabs/nosplit_keyword_vocab50000.txt')\n",
    "\n",
    "logging.info('datasets ready!')\n",
    "trainer.construct_model(model_type=model_type)\n",
    "\n",
    "logging.info('loading training data...')\n",
    "trainer.load_datasets(train_path='../zyt/codeclf/datasets/df_train_corpus.tar.bz2',\n",
    "            valid_path='../zyt/codeclf/datasets/df_valid_corpus.tar.bz2',\n",
    "            frac=data_num)\n",
    "logging.info('datasets ready!')\n",
    "\n",
    "\n",
    "\n",
    "logging.info('start training...')\n",
    "trainer.train_model(checkpoint_save_path=checkpoint_path)\n",
    "\n",
    "logging.info('saving model...')\n",
    "trainer.save_model(f'../zyt/codeclf/models/{model_name}.hdf5')\n",
    "trainer.plot_history()\n",
    "\n",
    "logging.info('evaluating model...')\n",
    "trainer.evaluate(test_path='../zyt/codeclf/datasets/df_test_corpus.tar.bz2')"
   ]
  },
  {
   "cell_type": "code",
   "execution_count": null,
   "metadata": {
    "colab": {
     "base_uri": "https://localhost:8080/"
    },
    "executionInfo": {
     "elapsed": 127676,
     "status": "ok",
     "timestamp": 1608398642271,
     "user": {
      "displayName": "张谷歌",
      "photoUrl": "",
      "userId": "02897993432207501893"
     },
     "user_tz": -480
    },
    "id": "PZbm8jTXyjFH",
    "outputId": "15d45cba-77a3-45d5-f6b7-57dd9d9c8857"
   },
   "outputs": [],
   "source": [
    "#2\n",
    "model_type = 'bilstm_1'\n",
    "context_before = 1\n",
    "context_after = 1\n",
    "context_mode = 'bat'\n",
    "data_num = 1\n",
    "vocab_size = 50000\n",
    "try_time = 2\n",
    "model_name = f'{model_type}_{context_mode}{context_before}{context_after}data{data_num}vocab{vocab_size}_{try_time}'\n",
    "checkpoint_path = os.path.join('../zyt/codeclf/checkpoint/', model_name)\n",
    "print(checkpoint_path)\n",
    "\n",
    "\n",
    "\n",
    "trainer = ContextModel(before=context_before, after=context_after, context_mode=context_mode)\n",
    "trainer.load_vocab('../zyt/codeclf/vocabs/nosplit_keyword_vocab50000.txt')\n",
    "\n",
    "logging.info('datasets ready!')\n",
    "trainer.construct_model(model_type=model_type)\n",
    "\n",
    "logging.info('loading training data...')\n",
    "trainer.load_datasets(train_path='../zyt/codeclf/datasets/df_train_corpus.tar.bz2',\n",
    "            valid_path='../zyt/codeclf/datasets/df_valid_corpus.tar.bz2',\n",
    "            frac=data_num)\n",
    "logging.info('datasets ready!')\n",
    "\n",
    "\n",
    "\n",
    "logging.info('start training...')\n",
    "trainer.train_model(checkpoint_save_path=checkpoint_path)\n",
    "\n",
    "logging.info('saving model...')\n",
    "trainer.save_model(f'../zyt/codeclf/models/{model_name}.hdf5')\n",
    "trainer.plot_history()\n",
    "\n",
    "logging.info('evaluating model...')\n",
    "trainer.evaluate(test_path='../zyt/codeclf/datasets/df_test_corpus.tar.bz2')"
   ]
  },
  {
   "cell_type": "code",
   "execution_count": null,
   "metadata": {
    "colab": {
     "base_uri": "https://localhost:8080/"
    },
    "executionInfo": {
     "elapsed": 820,
     "status": "ok",
     "timestamp": 1608398649135,
     "user": {
      "displayName": "张谷歌",
      "photoUrl": "",
      "userId": "02897993432207501893"
     },
     "user_tz": -480
    },
    "id": "JJFBoQr5y9fp",
    "outputId": "5260f5d5-c515-429b-847a-0cf6dc7a4ec9"
   },
   "outputs": [],
   "source": [
    "#3\n",
    "model_type = 'bilstm_1'\n",
    "context_before = 1\n",
    "context_after = 1\n",
    "context_mode = 'tba'\n",
    "data_num = 1\n",
    "vocab_size = 50000\n",
    "try_time = 3\n",
    "model_name = f'{model_type}_{context_mode}{context_before}{context_after}data{data_num}vocab{vocab_size}_{try_time}'\n",
    "checkpoint_path = os.path.join('../zyt/codeclf/checkpoint/', model_name)\n",
    "print(checkpoint_path)\n",
    "\n",
    "\n",
    "\n",
    "trainer = ContextModel(before=context_before, after=context_after, context_mode=context_mode)\n",
    "trainer.load_vocab('../zyt/codeclf/vocabs/nosplit_keyword_vocab50000.txt')\n",
    "\n",
    "logging.info('datasets ready!')\n",
    "trainer.construct_model(model_type=model_type)\n",
    "\n",
    "logging.info('loading training data...')\n",
    "trainer.load_datasets(train_path='../zyt/codeclf/datasets/df_train_corpus.tar.bz2',\n",
    "            valid_path='../zyt/codeclf/datasets/df_valid_corpus.tar.bz2',\n",
    "            frac=data_num)\n",
    "logging.info('datasets ready!')\n",
    "\n",
    "\n",
    "\n",
    "logging.info('start training...')\n",
    "trainer.train_model(checkpoint_save_path=checkpoint_path)\n",
    "\n",
    "logging.info('saving model...')\n",
    "trainer.save_model(f'../zyt/codeclf/models/{model_name}.hdf5')\n",
    "trainer.plot_history()\n",
    "\n",
    "logging.info('evaluating model...')\n",
    "trainer.evaluate(test_path='../zyt/codeclf/datasets/df_test_corpus.tar.bz2')"
   ]
  },
  {
   "cell_type": "code",
   "execution_count": null,
   "metadata": {
    "colab": {
     "base_uri": "https://localhost:8080/"
    },
    "executionInfo": {
     "elapsed": 2399437,
     "status": "ok",
     "timestamp": 1608402855524,
     "user": {
      "displayName": "张谷歌",
      "photoUrl": "",
      "userId": "02897993432207501893"
     },
     "user_tz": -480
    },
    "id": "q3K1p2Ha0MVS",
    "outputId": "c8c03c42-73c1-4be6-f2f0-f96602a9005e"
   },
   "outputs": [
    {
     "name": "stderr",
     "output_type": "stream",
     "text": [
      "INFO:root:start training...\n"
     ]
    },
    {
     "name": "stdout",
     "output_type": "stream",
     "text": [
      "Epoch 1/40\n",
      "403/403 [==============================] - 3422s 641ms/step - loss: 0.2727 - accuracy: 0.8765 - val_loss: 0.1037 - val_accuracy: 0.9642\n",
      "Epoch 2/40\n",
      "403/403 [==============================] - 248s 616ms/step - loss: 0.0623 - accuracy: 0.9804 - val_loss: 0.1681 - val_accuracy: 0.9482\n",
      "Epoch 3/40\n",
      "403/403 [==============================] - 249s 619ms/step - loss: 0.0495 - accuracy: 0.9842 - val_loss: 0.1159 - val_accuracy: 0.9683\n",
      "Epoch 4/40\n",
      "403/403 [==============================] - 250s 621ms/step - loss: 0.0535 - accuracy: 0.9834 - val_loss: 0.1064 - val_accuracy: 0.9675\n"
     ]
    },
    {
     "name": "stderr",
     "output_type": "stream",
     "text": [
      "INFO:root:train_model executing time: 7080.130292299999s\n"
     ]
    },
    {
     "name": "stdout",
     "output_type": "stream",
     "text": [
      "CPU times: user 1h 38min 53s, sys: 19min 6s, total: 1h 58min\n",
      "Wall time: 1h 9min 29s\n"
     ]
    }
   ],
   "source": [
    "#4\n",
    "model_type = 'bilstm_1'\n",
    "context_before = 2\n",
    "context_after = 2\n",
    "context_mode = 'bta'\n",
    "data_num = 1\n",
    "vocab_size = 50000\n",
    "try_time = 4\n",
    "model_name = f'{model_type}_{context_mode}{context_before}{context_after}data{data_num}vocab{vocab_size}_{try_time}'\n",
    "checkpoint_path = os.path.join('../zyt/codeclf/checkpoint/', model_name)\n",
    "print(checkpoint_path)\n",
    "\n",
    "\n",
    "\n",
    "trainer = ContextModel(before=context_before, after=context_after, context_mode=context_mode)\n",
    "trainer.load_vocab('../zyt/codeclf/vocabs/nosplit_keyword_vocab50000.txt')\n",
    "\n",
    "logging.info('datasets ready!')\n",
    "trainer.construct_model(model_type=model_type)\n",
    "\n",
    "logging.info('loading training data...')\n",
    "trainer.load_datasets(train_path='../zyt/codeclf/datasets/df_train_corpus.tar.bz2',\n",
    "            valid_path='../zyt/codeclf/datasets/df_valid_corpus.tar.bz2',\n",
    "            frac=data_num)\n",
    "logging.info('datasets ready!')\n",
    "\n",
    "\n",
    "\n",
    "logging.info('start training...')\n",
    "trainer.train_model(checkpoint_save_path=checkpoint_path)\n",
    "\n",
    "logging.info('saving model...')\n",
    "trainer.save_model(f'../zyt/codeclf/models/{model_name}.hdf5')\n",
    "trainer.plot_history()\n",
    "\n",
    "logging.info('evaluating model...')\n",
    "trainer.evaluate(test_path='../zyt/codeclf/datasets/df_test_corpus.tar.bz2')"
   ]
  },
  {
   "cell_type": "code",
   "execution_count": null,
   "metadata": {
    "id": "LB77BUMUcfsb"
   },
   "outputs": [],
   "source": [
    "#5\n",
    "model_type = 'bilstm_1'\n",
    "context_before = 2\n",
    "context_after = 2\n",
    "context_mode = 'tba'\n",
    "data_num = 1\n",
    "vocab_size = 50000\n",
    "try_time = 5\n",
    "model_name = f'{model_type}_{context_mode}{context_before}{context_after}data{data_num}vocab{vocab_size}_{try_time}'\n",
    "checkpoint_path = os.path.join('../zyt/codeclf/checkpoint/', model_name)\n",
    "print(checkpoint_path)\n",
    "\n",
    "\n",
    "\n",
    "trainer = ContextModel(before=context_before, after=context_after, context_mode=context_mode)\n",
    "trainer.load_vocab('../zyt/codeclf/vocabs/nosplit_keyword_vocab50000.txt')\n",
    "\n",
    "logging.info('datasets ready!')\n",
    "trainer.construct_model(model_type=model_type)\n",
    "\n",
    "logging.info('loading training data...')\n",
    "trainer.load_datasets(train_path='../zyt/codeclf/datasets/df_train_corpus.tar.bz2',\n",
    "            valid_path='../zyt/codeclf/datasets/df_valid_corpus.tar.bz2',\n",
    "            frac=data_num)\n",
    "logging.info('datasets ready!')\n",
    "\n",
    "\n",
    "\n",
    "logging.info('start training...')\n",
    "trainer.train_model(checkpoint_save_path=checkpoint_path)\n",
    "\n",
    "logging.info('saving model...')\n",
    "trainer.save_model(f'../zyt/codeclf/models/{model_name}.hdf5')\n",
    "trainer.plot_history()\n",
    "\n",
    "logging.info('evaluating model...')\n",
    "trainer.evaluate(test_path='../zyt/codeclf/datasets/df_test_corpus.tar.bz2')"
   ]
  },
  {
   "cell_type": "code",
   "execution_count": null,
   "metadata": {
    "colab": {
     "base_uri": "https://localhost:8080/",
     "height": 312
    },
    "executionInfo": {
     "elapsed": 2323,
     "status": "ok",
     "timestamp": 1608402860703,
     "user": {
      "displayName": "张谷歌",
      "photoUrl": "",
      "userId": "02897993432207501893"
     },
     "user_tz": -480
    },
    "id": "pKcQW8Oh0b7Q",
    "outputId": "bd4d8e23-586b-4625-ffa9-e9c522b41c3c"
   },
   "outputs": [
    {
     "name": "stderr",
     "output_type": "stream",
     "text": [
      "INFO:root:saving model...\n"
     ]
    },
    {
     "data": {
      "image/png": "[encoded data removed]",
      "text/plain": [
       "<Figure size 432x288 with 1 Axes>"
      ]
     },
     "metadata": {
      "needs_background": "light",
      "tags": []
     },
     "output_type": "display_data"
    }
   ],
   "source": [
    "#6\n",
    "model_type = 'bilstm_1'\n",
    "context_before = 2\n",
    "context_after = 2\n",
    "context_mode = 'bat'\n",
    "data_num = 1\n",
    "vocab_size = 50000\n",
    "try_time = 6\n",
    "model_name = f'{model_type}_{context_mode}{context_before}{context_after}data{data_num}vocab{vocab_size}_{try_time}'\n",
    "checkpoint_path = os.path.join('../zyt/codeclf/checkpoint/', model_name)\n",
    "print(checkpoint_path)\n",
    "\n",
    "\n",
    "\n",
    "trainer = ContextModel(before=context_before, after=context_after, context_mode=context_mode)\n",
    "trainer.load_vocab('../zyt/codeclf/vocabs/nosplit_keyword_vocab50000.txt')\n",
    "\n",
    "logging.info('datasets ready!')\n",
    "trainer.construct_model(model_type=model_type)\n",
    "\n",
    "logging.info('loading training data...')\n",
    "trainer.load_datasets(train_path='../zyt/codeclf/datasets/df_train_corpus.tar.bz2',\n",
    "            valid_path='../zyt/codeclf/datasets/df_valid_corpus.tar.bz2',\n",
    "            frac=data_num)\n",
    "logging.info('datasets ready!')\n",
    "\n",
    "\n",
    "\n",
    "logging.info('start training...')\n",
    "trainer.train_model(checkpoint_save_path=checkpoint_path)\n",
    "\n",
    "logging.info('saving model...')\n",
    "trainer.save_model(f'../zyt/codeclf/models/{model_name}.hdf5')\n",
    "trainer.plot_history()\n",
    "\n",
    "logging.info('evaluating model...')\n",
    "trainer.evaluate(test_path='../zyt/codeclf/datasets/df_test_corpus.tar.bz2')"
   ]
  },
  {
   "cell_type": "markdown",
   "metadata": {
    "id": "1jVwDLXi-yxF"
   },
   "source": [
    "# 保存模型"
   ]
  },
  {
   "cell_type": "code",
   "execution_count": 13,
   "metadata": {
    "executionInfo": {
     "elapsed": 1006,
     "status": "ok",
     "timestamp": 1608841950665,
     "user": {
      "displayName": "张谷歌",
      "photoUrl": "",
      "userId": "02897993432207501893"
     },
     "user_tz": -480
    },
    "id": "cDHLWya8_D-g"
   },
   "outputs": [],
   "source": [
    "!mkdir codeclf/models\n",
    "!ls codeclf/models"
   ]
  },
  {
   "cell_type": "code",
   "execution_count": null,
   "metadata": {
    "id": "oGw_KzYK-yQw"
   },
   "outputs": [],
   "source": [
    "!cp codeclf/models/* /content/gdrive/MyDrive/trained_models"
   ]
  },
  {
   "cell_type": "code",
   "execution_count": null,
   "metadata": {
    "id": "RTYG-TxZfyNL"
   },
   "outputs": [],
   "source": []
  }
 ],
 "metadata": {
  "accelerator": "GPU",
  "colab": {
   "authorship_tag": "ABX9TyMXTZhMRKs/633H6upWi8xQ",
   "machine_shape": "hm",
   "name": "分类器训练——bLSTM3_b1ta1dataNoLimitvocab50000_1",
   "provenance": []
  },
  "kernelspec": {
   "display_name": "Python 3",
   "language": "python",
   "name": "python3"
  },
  "language_info": {
   "codemirror_mode": {
    "name": "ipython",
    "version": 3
   },
   "file_extension": ".py",
   "mimetype": "text/x-python",
   "name": "python",
   "nbconvert_exporter": "python",
   "pygments_lexer": "ipython3",
   "version": "3.8.5"
  }
 },
 "nbformat": 4,
 "nbformat_minor": 1
}
