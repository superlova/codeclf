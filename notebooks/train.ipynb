{
 "cells": [
  {
   "cell_type": "code",
   "execution_count": 1,
   "metadata": {
    "pycharm": {
     "name": "#%%\n"
    }
   },
   "outputs": [],
   "source": [
    "import os, sys\n",
    "project_dir = 'C:/Users/zyt/Documents/GitHub Repositories/codeclf_gui/codeclf'\n",
    "sys.path.append(project_dir)"
   ]
  },
  {
   "cell_type": "code",
   "execution_count": 2,
   "metadata": {
    "pycharm": {
     "name": "#%%\n"
    }
   },
   "outputs": [],
   "source": [
    "from utils.CodeTokenizer import CodeTokenizer, CodeSplitTokenizer\n",
    "from utils.CodeTokenizer import ContextCodeTokenizer, ContextCodeSplitTokenizer\n",
    "from utils.Utils import timethis\n",
    "from preprocessing.DataProcessor import DataProcessor\n",
    "from train.ClfModel import ContextModel\n",
    "\n",
    "import numpy as np\n",
    "import pandas as pd\n",
    "import logging\n",
    "import tensorflow as tf"
   ]
  },
  {
   "cell_type": "code",
   "execution_count": 3,
   "metadata": {
    "pycharm": {
     "name": "#%%\n"
    }
   },
   "outputs": [],
   "source": [
    "def feature_to_id_bta(features, label):\n",
    "    return ccst.from_feature_to_token_id_bta(features[0].decode(\"utf-8\"),\n",
    "                                            features[1].decode(\"utf-8\"),\n",
    "                                            features[2].decode(\"utf-8\")), label"
   ]
  },
  {
   "cell_type": "code",
   "execution_count": 4,
   "metadata": {
    "pycharm": {
     "name": "#%%\n"
    }
   },
   "outputs": [],
   "source": [
    "def tf_feature_to_id_bta(features, label):\n",
    "    label_shape = label.shape\n",
    "    [features, label] = tf.numpy_function(feature_to_id_bta,\n",
    "                                inp=[features, label],\n",
    "                                Tout=[tf.int32, tf.int64])\n",
    "    features.set_shape((60,))\n",
    "    label.set_shape(label_shape)\n",
    "    return features, label"
   ]
  },
  {
   "cell_type": "code",
   "execution_count": 5,
   "metadata": {
    "pycharm": {
     "name": "#%%\n"
    }
   },
   "outputs": [
    {
     "name": "stdout",
     "output_type": "stream",
     "text": [
      "df_codes:330684, df_docs:192157\n"
     ]
    },
    {
     "data": {
      "text/plain": [
       "<TensorSliceDataset shapes: ((3,), ()), types: (tf.string, tf.int64)>"
      ]
     },
     "execution_count": 5,
     "metadata": {},
     "output_type": "execute_result"
    }
   ],
   "source": [
    "# 未平衡两类别\n",
    "ccst = ContextCodeSplitTokenizer(os.path.join(project_dir, 'vocabs/split_simple_vocab50000.txt'))\n",
    "dp = DataProcessor()\n",
    "\n",
    "corpus_path = '../datasets/df_test_corpus.tar.bz2'\n",
    "df_data = pd.read_pickle(corpus_path)\n",
    "data = df_data['code']\n",
    "ds = dp.process_context_tfdata_merge(data)  # 自动标注\n",
    "\n",
    "ds\n"
   ]
  },
  {
   "cell_type": "code",
   "execution_count": 6,
   "metadata": {
    "pycharm": {
     "name": "#%%\n"
    }
   },
   "outputs": [
    {
     "data": {
      "text/plain": [
       "<MapDataset shapes: ((60,), ()), types: (tf.int32, tf.int64)>"
      ]
     },
     "execution_count": 6,
     "metadata": {},
     "output_type": "execute_result"
    }
   ],
   "source": [
    "ds_test = ds.map(tf_feature_to_id_bta)\n",
    "ds_test"
   ]
  },
  {
   "cell_type": "code",
   "execution_count": 7,
   "metadata": {
    "pycharm": {
     "name": "#%%\n"
    }
   },
   "outputs": [
    {
     "name": "stdout",
     "output_type": "stream",
     "text": [
      "WARNING:tensorflow:AutoGraph could not transform <function <lambda> at 0x000001690D6AB7B8> and will run it as-is.\n",
      "Cause: could not parse the source code:\n",
      "\n",
      "    .filter(lambda features, label: label == 0).shuffle(100000).repeat())\n",
      "\n",
      "This error may be avoided by creating the lambda in a standalone statement.\n",
      "\n",
      "To silence this warning, decorate the function with @tf.autograph.experimental.do_not_convert\n"
     ]
    },
    {
     "name": "stderr",
     "output_type": "stream",
     "text": [
      "WARNING:tensorflow:AutoGraph could not transform <function <lambda> at 0x000001690D6AB7B8> and will run it as-is.\n",
      "Cause: could not parse the source code:\n",
      "\n",
      "    .filter(lambda features, label: label == 0).shuffle(100000).repeat())\n",
      "\n",
      "This error may be avoided by creating the lambda in a standalone statement.\n",
      "\n",
      "To silence this warning, decorate the function with @tf.autograph.experimental.do_not_convert\n"
     ]
    },
    {
     "name": "stdout",
     "output_type": "stream",
     "text": [
      "WARNING: AutoGraph could not transform <function <lambda> at 0x000001690D6AB7B8> and will run it as-is.\n",
      "Cause: could not parse the source code:\n",
      "\n",
      "    .filter(lambda features, label: label == 0).shuffle(100000).repeat())\n",
      "\n",
      "This error may be avoided by creating the lambda in a standalone statement.\n",
      "\n",
      "To silence this warning, decorate the function with @tf.autograph.experimental.do_not_convert\n",
      "WARNING:tensorflow:AutoGraph could not transform <function <lambda> at 0x00000169313EFA60> and will run it as-is.\n",
      "Cause: could not parse the source code:\n",
      "\n",
      "    .filter(lambda features, label: label == 1).shuffle(100000).repeat())\n",
      "\n",
      "This error may be avoided by creating the lambda in a standalone statement.\n",
      "\n",
      "To silence this warning, decorate the function with @tf.autograph.experimental.do_not_convert\n"
     ]
    },
    {
     "name": "stderr",
     "output_type": "stream",
     "text": [
      "WARNING:tensorflow:AutoGraph could not transform <function <lambda> at 0x00000169313EFA60> and will run it as-is.\n",
      "Cause: could not parse the source code:\n",
      "\n",
      "    .filter(lambda features, label: label == 1).shuffle(100000).repeat())\n",
      "\n",
      "This error may be avoided by creating the lambda in a standalone statement.\n",
      "\n",
      "To silence this warning, decorate the function with @tf.autograph.experimental.do_not_convert\n"
     ]
    },
    {
     "name": "stdout",
     "output_type": "stream",
     "text": [
      "WARNING: AutoGraph could not transform <function <lambda> at 0x00000169313EFA60> and will run it as-is.\n",
      "Cause: could not parse the source code:\n",
      "\n",
      "    .filter(lambda features, label: label == 1).shuffle(100000).repeat())\n",
      "\n",
      "This error may be avoided by creating the lambda in a standalone statement.\n",
      "\n",
      "To silence this warning, decorate the function with @tf.autograph.experimental.do_not_convert\n"
     ]
    }
   ],
   "source": [
    "# 平衡两类别\n",
    "test_code_ds = (ds_test\n",
    "    .filter(lambda features, label: label == 0).shuffle(100000).repeat())\n",
    "test_docs_ds = (ds_test\n",
    "    .filter(lambda features, label: label == 1).shuffle(100000).repeat())\n",
    "ds_test = tf.data.experimental.sample_from_datasets(\n",
    "            [test_code_ds, test_docs_ds],\n",
    "            weights=[0.5, 0.5])\n",
    "# ds_test = ds_test.shuffle(10000).batch(32).prefetch(2)\n",
    "ds_test = ds_test.batch(1024).prefetch(2)"
   ]
  },
  {
   "cell_type": "code",
   "execution_count": 31,
   "metadata": {
    "pycharm": {
     "name": "#%%\n"
    }
   },
   "outputs": [
    {
     "name": "stdout",
     "output_type": "stream",
     "text": [
      "13 19\n"
     ]
    }
   ],
   "source": [
    "count_code = 0\n",
    "count_docs = 0\n",
    "for f, l in ds_test.take(1):\n",
    "    # print(f, l)\n",
    "    for label in l:\n",
    "        if label == 0:\n",
    "            count_code += 1\n",
    "        else:\n",
    "            count_docs += 1\n",
    "print(count_code, count_docs)"
   ]
  },
  {
   "cell_type": "code",
   "execution_count": null,
   "metadata": {
    "pycharm": {
     "is_executing": true,
     "name": "#%%\n"
    }
   },
   "outputs": [],
   "source": [
    "%%time\n",
    "for f, l in ds_test.take(10):\n",
    "    # print(f, l)\n",
    "    print(l.numpy().mean())"
   ]
  },
  {
   "cell_type": "code",
   "execution_count": null,
   "metadata": {},
   "outputs": [],
   "source": []
  }
 ],
 "metadata": {
  "kernelspec": {
   "display_name": "Python 3",
   "language": "python",
   "name": "python3"
  },
  "language_info": {
   "codemirror_mode": {
    "name": "ipython",
    "version": 3
   },
   "file_extension": ".py",
   "mimetype": "text/x-python",
   "name": "python",
   "nbconvert_exporter": "python",
   "pygments_lexer": "ipython3",
   "version": "3.7.3"
  }
 },
 "nbformat": 4,
 "nbformat_minor": 1
}